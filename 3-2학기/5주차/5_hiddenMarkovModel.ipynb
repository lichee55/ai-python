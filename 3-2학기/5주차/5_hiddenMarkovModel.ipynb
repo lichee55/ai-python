{
  "nbformat": 4,
  "nbformat_minor": 0,
  "metadata": {
    "colab": {
      "name": "5_hiddenMarkovModel.ipynb",
      "provenance": [],
      "collapsed_sections": []
    },
    "kernelspec": {
      "name": "python3",
      "display_name": "Python 3"
    },
    "language_info": {
      "name": "python"
    }
  },
  "cells": [
    {
      "cell_type": "markdown",
      "metadata": {
        "id": "GAet1sodRFb1"
      },
      "source": [
        "### Hidden Markov Model 실습\n",
        "\n",
        "- 라이브러리 import"
      ]
    },
    {
      "cell_type": "code",
      "metadata": {
        "id": "116btePHRNqX",
        "colab": {
          "base_uri": "https://localhost:8080/"
        },
        "outputId": "4e9e3e80-95a4-4830-f68c-89c713c9d156"
      },
      "source": [
        "!pip install hmmlearn\n",
        "\n",
        "import numpy as np\n",
        "from hmmlearn import hmm"
      ],
      "execution_count": 2,
      "outputs": [
        {
          "output_type": "stream",
          "name": "stdout",
          "text": [
            "Collecting hmmlearn\n",
            "  Downloading hmmlearn-0.2.6-cp37-cp37m-manylinux_2_5_x86_64.manylinux1_x86_64.whl (374 kB)\n",
            "\u001b[K     |████████████████████████████████| 374 kB 4.0 MB/s \n",
            "\u001b[?25hRequirement already satisfied: numpy>=1.10 in /usr/local/lib/python3.7/dist-packages (from hmmlearn) (1.19.5)\n",
            "Requirement already satisfied: scikit-learn>=0.16 in /usr/local/lib/python3.7/dist-packages (from hmmlearn) (0.22.2.post1)\n",
            "Requirement already satisfied: scipy>=0.19 in /usr/local/lib/python3.7/dist-packages (from hmmlearn) (1.4.1)\n",
            "Requirement already satisfied: joblib>=0.11 in /usr/local/lib/python3.7/dist-packages (from scikit-learn>=0.16->hmmlearn) (1.0.1)\n",
            "Installing collected packages: hmmlearn\n",
            "Successfully installed hmmlearn-0.2.6\n"
          ]
        }
      ]
    },
    {
      "cell_type": "markdown",
      "metadata": {
        "id": "DaJ_OveIRTqc"
      },
      "source": [
        "- 학습시퀀스 입력 (삼한사온 예측)"
      ]
    },
    {
      "cell_type": "code",
      "metadata": {
        "colab": {
          "base_uri": "https://localhost:8080/"
        },
        "id": "FOnSZVk6RXGd",
        "outputId": "b832a42c-f0a5-428c-a4d9-62a377e4c3a6"
      },
      "source": [
        "X = [[1],[1],[1],[2],[2],[2],[2],[1],[1],[1],[2],[2],[2],[2],[1],[1],[1],[2],[2],[2],[2]]\n",
        "model = hmm.MultinomialHMM(2)\n",
        "model.fit(X)"
      ],
      "execution_count": 3,
      "outputs": [
        {
          "output_type": "execute_result",
          "data": {
            "text/plain": [
              "MultinomialHMM(algorithm='viterbi', init_params='ste', n_components=2,\n",
              "               n_iter=10, params='ste',\n",
              "               random_state=RandomState(MT19937) at 0x7F112358D050,\n",
              "               startprob_prior=1.0, tol=0.01, transmat_prior=1.0,\n",
              "               verbose=False)"
            ]
          },
          "metadata": {},
          "execution_count": 3
        }
      ]
    },
    {
      "cell_type": "markdown",
      "metadata": {
        "id": "IgyoN4-aRZ33"
      },
      "source": [
        "- 예측시퀀스 입력과 스코어 산출"
      ]
    },
    {
      "cell_type": "code",
      "metadata": {
        "colab": {
          "base_uri": "https://localhost:8080/"
        },
        "id": "TdEOxduERenb",
        "outputId": "a48e0c4f-52be-4b7b-b87b-e8ad8402422c"
      },
      "source": [
        "Y1 = [[1],[1],[1],[1]]\n",
        "Y2 = [[1],[1],[1],[2]]\n",
        "\n",
        "print(model.score(Y1))\n",
        "print(model.score(Y2))"
      ],
      "execution_count": 4,
      "outputs": [
        {
          "output_type": "stream",
          "name": "stdout",
          "text": [
            "-2.385241848447719\n",
            "-2.3727586970376477\n"
          ]
        }
      ]
    },
    {
      "cell_type": "markdown",
      "metadata": {
        "id": "d81gnsp6SQOf"
      },
      "source": [
        "- GaussianHMM 실습"
      ]
    },
    {
      "cell_type": "code",
      "metadata": {
        "colab": {
          "base_uri": "https://localhost:8080/"
        },
        "id": "YOn3CLCASbC_",
        "outputId": "0c79b9e0-cbfc-4446-b050-e627d40c3826"
      },
      "source": [
        "X = [[0.1],[0.2],[0.3],[0.4],[0.5],[0.6],[0.7],[0.8],[0.9],[1.0]]\n",
        "Y = [[0.1],[0.2],[0.3],[0.4]]\n",
        "\n",
        "model1 = hmm.GaussianHMM(3)\n",
        "model1.fit(X)\n",
        "\n",
        "model2 = hmm.GMMHMM(3,2)\n",
        "model2.fit(X)\n",
        "\n",
        "print(model1.score(Y))\n",
        "print(model2.score(Y))"
      ],
      "execution_count": 5,
      "outputs": [
        {
          "output_type": "stream",
          "name": "stderr",
          "text": [
            "Fitting a model with 14 free scalar parameters with only 10 data points will result in a degenerate solution.\n",
            "Fitting a model with 21 free scalar parameters with only 10 data points will result in a degenerate solution.\n"
          ]
        },
        {
          "output_type": "stream",
          "name": "stdout",
          "text": [
            "2.6299323955233076\n",
            "2.6128833679533\n"
          ]
        }
      ]
    },
    {
      "cell_type": "markdown",
      "metadata": {
        "id": "j0lUlOe0TUvz"
      },
      "source": [
        "- 연속값 시퀀스의 스코어 측정"
      ]
    },
    {
      "cell_type": "code",
      "metadata": {
        "colab": {
          "base_uri": "https://localhost:8080/"
        },
        "id": "9sk0HnN9T5g8",
        "outputId": "6cad19a7-652a-4101-a4a2-16420957006a"
      },
      "source": [
        "X = [[0.1],[0.2],[0.3],[0.4],[0.5],[0.6],[0.7],[0.8],[0.9],[1.0]]\n",
        "model = hmm.GMMHMM(3)\n",
        "model.fit(X)\n",
        "\n",
        "Y1 = [[0.1],[0.2],[0.3],[0.2]]\n",
        "Y2 = [[0.1],[0.2],[0.3],[0.4]]\n",
        "Y3 = [[0.1],[0.2],[0.3],[0.6]]\n",
        "Y4 = [[0.1],[0.2],[0.3],[0.8]]\n",
        "Y5 = [[0.1],[0.2],[0.3],[1.0]]\n",
        "\n",
        "print(model.score(Y1))\n",
        "print(model.score(Y2))\n",
        "print(model.score(Y3))\n",
        "print(model.score(Y4))\n",
        "print(model.score(Y5))"
      ],
      "execution_count": 6,
      "outputs": [
        {
          "output_type": "stream",
          "name": "stderr",
          "text": [
            "Fitting a model with 14 free scalar parameters with only 10 data points will result in a degenerate solution.\n"
          ]
        },
        {
          "output_type": "stream",
          "name": "stdout",
          "text": [
            "3.4794916772438853\n",
            "2.6018457670234865\n",
            "2.3627385338854197\n",
            "-0.0013229984109675297\n",
            "-0.9229190762196464\n"
          ]
        }
      ]
    }
  ]
}