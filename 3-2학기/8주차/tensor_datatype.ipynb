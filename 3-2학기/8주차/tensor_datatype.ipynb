{
 "cells": [
  {
   "cell_type": "markdown",
   "metadata": {},
   "source": [
    "### 텐서플로우 변수 등"
   ]
  },
  {
   "cell_type": "markdown",
   "metadata": {},
   "source": [
    "- 자동 int32, float32 캐스팅"
   ]
  },
  {
   "cell_type": "code",
   "execution_count": 1,
   "metadata": {},
   "outputs": [
    {
     "name": "stdout",
     "output_type": "stream",
     "text": [
      "Init Plugin\n",
      "<dtype: 'int32'>Init Graph Optimizer\n",
      "Init Kernel\n",
      "Metal device set to: Apple M1\n",
      "\n",
      "systemMemory: 16.00 GB\n",
      "maxCacheSize: 5.33 GB\n",
      "\n",
      "\n",
      "<dtype: 'float32'>\n"
     ]
    },
    {
     "name": "stderr",
     "output_type": "stream",
     "text": [
      "2021-10-08 09:36:46.910027: I tensorflow/core/common_runtime/pluggable_device/pluggable_device_factory.cc:305] Could not identify NUMA node of platform GPU ID 0, defaulting to 0. Your kernel may not have been built with NUMA support.\n",
      "2021-10-08 09:36:46.910107: I tensorflow/core/common_runtime/pluggable_device/pluggable_device_factory.cc:271] Created TensorFlow device (/job:localhost/replica:0/task:0/device:GPU:0 with 0 MB memory) -> physical PluggableDevice (device: 0, name: METAL, pci bus id: <undefined>)\n"
     ]
    }
   ],
   "source": [
    "import tensorflow as tf\n",
    "\n",
    "a = tf.constant([3, 6, 7, 9])\n",
    "b = tf.constant([[2, 2], [4, 8]], dtype=tf.float32)\n",
    "print(a.dtype); print(b.dtype) # int32, flot32\n"
   ]
  },
  {
   "cell_type": "markdown",
   "metadata": {},
   "source": [
    "- 생성된 후의 텐서의 자료형을 변환할 경우 cast함수 사용"
   ]
  },
  {
   "cell_type": "code",
   "execution_count": 2,
   "metadata": {},
   "outputs": [
    {
     "name": "stdout",
     "output_type": "stream",
     "text": [
      "tf.Tensor(\n",
      "[[ 5.  8.]\n",
      " [11. 17.]], shape=(2, 2), dtype=float32)\n"
     ]
    }
   ],
   "source": [
    "import tensorflow as tf\n",
    "\n",
    "a = tf.constant([3, 6, 7, 9])\n",
    "b = tf.constant([[2, 2], [4, 8]], dtype=tf.float32)\n",
    "a = tf.cast(a, dtype=tf.float32)\n",
    "a = tf.reshape(a, [2, 2])\n",
    "c = tf.add(a, b)\n",
    "\n",
    "print(c)\n"
   ]
  },
  {
   "cell_type": "markdown",
   "metadata": {},
   "source": [
    "- 실행 중 값이 변하는 텐서? (변수)\n",
    "    - Variable 함수 사용."
   ]
  },
  {
   "cell_type": "code",
   "execution_count": 3,
   "metadata": {},
   "outputs": [
    {
     "name": "stdout",
     "output_type": "stream",
     "text": [
      "tf.Tensor(42, shape=(), dtype=int32)\n"
     ]
    }
   ],
   "source": [
    "import tensorflow as tf\n",
    "\n",
    "x = tf.Variable(3, name=\"x\")\n",
    "y = tf.Variable(4, name=\"y\") \n",
    "f = x*y*x + y + 2\n",
    "\n",
    "print(f)"
   ]
  },
  {
   "cell_type": "markdown",
   "metadata": {},
   "source": [
    "- 초기화되지 않은 변수 노드를 사용 시 오류 발생 (tf1)"
   ]
  },
  {
   "cell_type": "code",
   "execution_count": 4,
   "metadata": {},
   "outputs": [
    {
     "name": "stdout",
     "output_type": "stream",
     "text": [
      "WARNING:tensorflow:From /opt/homebrew/Caskroom/miniforge/base/envs/tfcv/lib/python3.8/site-packages/tensorflow/python/compat/v2_compat.py:96: disable_resource_variables (from tensorflow.python.ops.variable_scope) is deprecated and will be removed in a future version.\n",
      "Instructions for updating:\n",
      "non-resource variables are not supported in the long term\n"
     ]
    },
    {
     "name": "stderr",
     "output_type": "stream",
     "text": [
      "2021-10-08 09:36:46.971547: I tensorflow/core/common_runtime/pluggable_device/pluggable_device_factory.cc:305] Could not identify NUMA node of platform GPU ID 0, defaulting to 0. Your kernel may not have been built with NUMA support.\n",
      "2021-10-08 09:36:46.971564: I tensorflow/core/common_runtime/pluggable_device/pluggable_device_factory.cc:271] Created TensorFlow device (/job:localhost/replica:0/task:0/device:GPU:0 with 0 MB memory) -> physical PluggableDevice (device: 0, name: METAL, pci bus id: <undefined>)\n",
      "2021-10-08 09:36:46.976796: W tensorflow/core/platform/profile_utils/cpu_utils.cc:128] Failed to get CPU frequency: 0 Hz\n",
      "2021-10-08 09:36:46.976850: I tensorflow/core/grappler/optimizers/custom_graph_optimizer_registry.cc:112] Plugin optimizer for device_type GPU is enabled.\n"
     ]
    },
    {
     "ename": "FailedPreconditionError",
     "evalue": "2 root error(s) found.\n  (0) Failed precondition: Could not find variable y. This could mean that the variable has been deleted. In TF1, it can also mean the variable is uninitialized. Debug info: container=localhost, status=Not found: Container localhost does not exist. (Could not find resource: localhost/y)\n\t [[node add/ReadVariableOp (defined at var/folders/ss/dphts7s11w55xdyptfls1np00000gn/T/ipykernel_2236/3429531494.py:7) ]]\n\t [[ReadVariableOp/_1]]\n  (1) Failed precondition: Could not find variable y. This could mean that the variable has been deleted. In TF1, it can also mean the variable is uninitialized. Debug info: container=localhost, status=Not found: Container localhost does not exist. (Could not find resource: localhost/y)\n\t [[node add/ReadVariableOp (defined at var/folders/ss/dphts7s11w55xdyptfls1np00000gn/T/ipykernel_2236/3429531494.py:7) ]]\n0 successful operations.\n0 derived errors ignored.\n\nErrors may have originated from an input operation.\nInput Source operations connected to node add/ReadVariableOp:\n y (defined at var/folders/ss/dphts7s11w55xdyptfls1np00000gn/T/ipykernel_2236/3429531494.py:5)\n\nInput Source operations connected to node add/ReadVariableOp:\n y (defined at var/folders/ss/dphts7s11w55xdyptfls1np00000gn/T/ipykernel_2236/3429531494.py:5)\n\nOriginal stack trace for 'add/ReadVariableOp':\n  File \"opt/homebrew/Caskroom/miniforge/base/envs/tfcv/lib/python3.8/runpy.py\", line 194, in _run_module_as_main\n    return _run_code(code, main_globals, None,\n  File \"opt/homebrew/Caskroom/miniforge/base/envs/tfcv/lib/python3.8/runpy.py\", line 87, in _run_code\n    exec(code, run_globals)\n  File \"opt/homebrew/Caskroom/miniforge/base/envs/tfcv/lib/python3.8/site-packages/ipykernel_launcher.py\", line 16, in <module>\n    app.launch_new_instance()\n  File \"opt/homebrew/Caskroom/miniforge/base/envs/tfcv/lib/python3.8/site-packages/traitlets/config/application.py\", line 846, in launch_instance\n    app.start()\n  File \"opt/homebrew/Caskroom/miniforge/base/envs/tfcv/lib/python3.8/site-packages/ipykernel/kernelapp.py\", line 677, in start\n    self.io_loop.start()\n  File \"opt/homebrew/Caskroom/miniforge/base/envs/tfcv/lib/python3.8/site-packages/tornado/platform/asyncio.py\", line 199, in start\n    self.asyncio_loop.run_forever()\n  File \"opt/homebrew/Caskroom/miniforge/base/envs/tfcv/lib/python3.8/asyncio/base_events.py\", line 570, in run_forever\n    self._run_once()\n  File \"opt/homebrew/Caskroom/miniforge/base/envs/tfcv/lib/python3.8/asyncio/base_events.py\", line 1859, in _run_once\n    handle._run()\n  File \"opt/homebrew/Caskroom/miniforge/base/envs/tfcv/lib/python3.8/asyncio/events.py\", line 81, in _run\n    self._context.run(self._callback, *self._args)\n  File \"opt/homebrew/Caskroom/miniforge/base/envs/tfcv/lib/python3.8/site-packages/ipykernel/kernelbase.py\", line 457, in dispatch_queue\n    await self.process_one()\n  File \"opt/homebrew/Caskroom/miniforge/base/envs/tfcv/lib/python3.8/site-packages/ipykernel/kernelbase.py\", line 446, in process_one\n    await dispatch(*args)\n  File \"opt/homebrew/Caskroom/miniforge/base/envs/tfcv/lib/python3.8/site-packages/ipykernel/kernelbase.py\", line 353, in dispatch_shell\n    await result\n  File \"opt/homebrew/Caskroom/miniforge/base/envs/tfcv/lib/python3.8/site-packages/ipykernel/kernelbase.py\", line 648, in execute_request\n    reply_content = await reply_content\n  File \"opt/homebrew/Caskroom/miniforge/base/envs/tfcv/lib/python3.8/site-packages/ipykernel/ipkernel.py\", line 353, in do_execute\n    res = shell.run_cell(code, store_history=store_history, silent=silent)\n  File \"opt/homebrew/Caskroom/miniforge/base/envs/tfcv/lib/python3.8/site-packages/ipykernel/zmqshell.py\", line 533, in run_cell\n    return super(ZMQInteractiveShell, self).run_cell(*args, **kwargs)\n  File \"opt/homebrew/Caskroom/miniforge/base/envs/tfcv/lib/python3.8/site-packages/IPython/core/interactiveshell.py\", line 2898, in run_cell\n    result = self._run_cell(\n  File \"opt/homebrew/Caskroom/miniforge/base/envs/tfcv/lib/python3.8/site-packages/IPython/core/interactiveshell.py\", line 2944, in _run_cell\n    return runner(coro)\n  File \"opt/homebrew/Caskroom/miniforge/base/envs/tfcv/lib/python3.8/site-packages/IPython/core/async_helpers.py\", line 68, in _pseudo_sync_runner\n    coro.send(None)\n  File \"opt/homebrew/Caskroom/miniforge/base/envs/tfcv/lib/python3.8/site-packages/IPython/core/interactiveshell.py\", line 3169, in run_cell_async\n    has_raised = await self.run_ast_nodes(code_ast.body, cell_name,\n  File \"opt/homebrew/Caskroom/miniforge/base/envs/tfcv/lib/python3.8/site-packages/IPython/core/interactiveshell.py\", line 3361, in run_ast_nodes\n    if (await self.run_code(code, result,  async_=asy)):\n  File \"opt/homebrew/Caskroom/miniforge/base/envs/tfcv/lib/python3.8/site-packages/IPython/core/interactiveshell.py\", line 3441, in run_code\n    exec(code_obj, self.user_global_ns, self.user_ns)\n  File \"var/folders/ss/dphts7s11w55xdyptfls1np00000gn/T/ipykernel_2236/3429531494.py\", line 7, in <module>\n    f = x*y*x + y + 2\n  File \"opt/homebrew/Caskroom/miniforge/base/envs/tfcv/lib/python3.8/site-packages/tensorflow/python/ops/math_ops.py\", line 1234, in binary_op_wrapper\n    return func(x, y, name=name)\n  File \"opt/homebrew/Caskroom/miniforge/base/envs/tfcv/lib/python3.8/site-packages/tensorflow/python/util/dispatch.py\", line 206, in wrapper\n    return target(*args, **kwargs)\n  File \"opt/homebrew/Caskroom/miniforge/base/envs/tfcv/lib/python3.8/site-packages/tensorflow/python/ops/math_ops.py\", line 1561, in _add_dispatch\n    y = ops.convert_to_tensor(y, dtype_hint=x.dtype.base_dtype, name=\"y\")\n  File \"opt/homebrew/Caskroom/miniforge/base/envs/tfcv/lib/python3.8/site-packages/tensorflow/python/profiler/trace.py\", line 163, in wrapped\n    return func(*args, **kwargs)\n  File \"opt/homebrew/Caskroom/miniforge/base/envs/tfcv/lib/python3.8/site-packages/tensorflow/python/framework/ops.py\", line 1553, in convert_to_tensor\n    ret = conversion_func(\n  File \"opt/homebrew/Caskroom/miniforge/base/envs/tfcv/lib/python3.8/site-packages/tensorflow/python/ops/resource_variable_ops.py\", line 2005, in _dense_var_to_tensor\n    return var._dense_var_to_tensor(dtype=dtype, name=name, as_ref=as_ref)  # pylint: disable=protected-access\n  File \"opt/homebrew/Caskroom/miniforge/base/envs/tfcv/lib/python3.8/site-packages/tensorflow/python/ops/resource_variable_ops.py\", line 1403, in _dense_var_to_tensor\n    return self.value()\n  File \"opt/homebrew/Caskroom/miniforge/base/envs/tfcv/lib/python3.8/site-packages/tensorflow/python/ops/resource_variable_ops.py\", line 575, in value\n    return self._read_variable_op()\n  File \"opt/homebrew/Caskroom/miniforge/base/envs/tfcv/lib/python3.8/site-packages/tensorflow/python/ops/resource_variable_ops.py\", line 682, in _read_variable_op\n    result = read_and_set_handle()\n  File \"opt/homebrew/Caskroom/miniforge/base/envs/tfcv/lib/python3.8/site-packages/tensorflow/python/ops/resource_variable_ops.py\", line 672, in read_and_set_handle\n    result = gen_resource_variable_ops.read_variable_op(\n  File \"opt/homebrew/Caskroom/miniforge/base/envs/tfcv/lib/python3.8/site-packages/tensorflow/python/ops/gen_resource_variable_ops.py\", line 484, in read_variable_op\n    _, _, _op, _outputs = _op_def_library._apply_op_helper(\n  File \"opt/homebrew/Caskroom/miniforge/base/envs/tfcv/lib/python3.8/site-packages/tensorflow/python/framework/op_def_library.py\", line 748, in _apply_op_helper\n    op = g._create_op_internal(op_type_name, inputs, dtypes=None,\n  File \"opt/homebrew/Caskroom/miniforge/base/envs/tfcv/lib/python3.8/site-packages/tensorflow/python/framework/ops.py\", line 3557, in _create_op_internal\n    ret = Operation(\n  File \"opt/homebrew/Caskroom/miniforge/base/envs/tfcv/lib/python3.8/site-packages/tensorflow/python/framework/ops.py\", line 2045, in __init__\n    self._traceback = tf_stack.extract_stack_for_node(self._c_op)\n",
     "output_type": "error",
     "traceback": [
      "\u001b[0;31m---------------------------------------------------------------------------\u001b[0m",
      "\u001b[0;31mFailedPreconditionError\u001b[0m                   Traceback (most recent call last)",
      "\u001b[0;32m/opt/homebrew/Caskroom/miniforge/base/envs/tfcv/lib/python3.8/site-packages/tensorflow/python/client/session.py\u001b[0m in \u001b[0;36m_do_call\u001b[0;34m(self, fn, *args)\u001b[0m\n\u001b[1;32m   1374\u001b[0m     \u001b[0;32mtry\u001b[0m\u001b[0;34m:\u001b[0m\u001b[0;34m\u001b[0m\u001b[0;34m\u001b[0m\u001b[0m\n\u001b[0;32m-> 1375\u001b[0;31m       \u001b[0;32mreturn\u001b[0m \u001b[0mfn\u001b[0m\u001b[0;34m(\u001b[0m\u001b[0;34m*\u001b[0m\u001b[0margs\u001b[0m\u001b[0;34m)\u001b[0m\u001b[0;34m\u001b[0m\u001b[0;34m\u001b[0m\u001b[0m\n\u001b[0m\u001b[1;32m   1376\u001b[0m     \u001b[0;32mexcept\u001b[0m \u001b[0merrors\u001b[0m\u001b[0;34m.\u001b[0m\u001b[0mOpError\u001b[0m \u001b[0;32mas\u001b[0m \u001b[0me\u001b[0m\u001b[0;34m:\u001b[0m\u001b[0;34m\u001b[0m\u001b[0;34m\u001b[0m\u001b[0m\n",
      "\u001b[0;32m/opt/homebrew/Caskroom/miniforge/base/envs/tfcv/lib/python3.8/site-packages/tensorflow/python/client/session.py\u001b[0m in \u001b[0;36m_run_fn\u001b[0;34m(feed_dict, fetch_list, target_list, options, run_metadata)\u001b[0m\n\u001b[1;32m   1358\u001b[0m       \u001b[0mself\u001b[0m\u001b[0;34m.\u001b[0m\u001b[0m_extend_graph\u001b[0m\u001b[0;34m(\u001b[0m\u001b[0;34m)\u001b[0m\u001b[0;34m\u001b[0m\u001b[0;34m\u001b[0m\u001b[0m\n\u001b[0;32m-> 1359\u001b[0;31m       return self._call_tf_sessionrun(options, feed_dict, fetch_list,\n\u001b[0m\u001b[1;32m   1360\u001b[0m                                       target_list, run_metadata)\n",
      "\u001b[0;32m/opt/homebrew/Caskroom/miniforge/base/envs/tfcv/lib/python3.8/site-packages/tensorflow/python/client/session.py\u001b[0m in \u001b[0;36m_call_tf_sessionrun\u001b[0;34m(self, options, feed_dict, fetch_list, target_list, run_metadata)\u001b[0m\n\u001b[1;32m   1450\u001b[0m                           run_metadata):\n\u001b[0;32m-> 1451\u001b[0;31m     return tf_session.TF_SessionRun_wrapper(self._session, options, feed_dict,\n\u001b[0m\u001b[1;32m   1452\u001b[0m                                             \u001b[0mfetch_list\u001b[0m\u001b[0;34m,\u001b[0m \u001b[0mtarget_list\u001b[0m\u001b[0;34m,\u001b[0m\u001b[0;34m\u001b[0m\u001b[0;34m\u001b[0m\u001b[0m\n",
      "\u001b[0;31mFailedPreconditionError\u001b[0m: 2 root error(s) found.\n  (0) Failed precondition: Could not find variable y. This could mean that the variable has been deleted. In TF1, it can also mean the variable is uninitialized. Debug info: container=localhost, status=Not found: Container localhost does not exist. (Could not find resource: localhost/y)\n\t [[{{node add/ReadVariableOp}}]]\n\t [[ReadVariableOp/_1]]\n  (1) Failed precondition: Could not find variable y. This could mean that the variable has been deleted. In TF1, it can also mean the variable is uninitialized. Debug info: container=localhost, status=Not found: Container localhost does not exist. (Could not find resource: localhost/y)\n\t [[{{node add/ReadVariableOp}}]]\n0 successful operations.\n0 derived errors ignored.",
      "\nDuring handling of the above exception, another exception occurred:\n",
      "\u001b[0;31mFailedPreconditionError\u001b[0m                   Traceback (most recent call last)",
      "\u001b[0;32m/var/folders/ss/dphts7s11w55xdyptfls1np00000gn/T/ipykernel_2236/3429531494.py\u001b[0m in \u001b[0;36m<module>\u001b[0;34m\u001b[0m\n\u001b[1;32m      6\u001b[0m \u001b[0;34m\u001b[0m\u001b[0m\n\u001b[1;32m      7\u001b[0m     \u001b[0mf\u001b[0m \u001b[0;34m=\u001b[0m \u001b[0mx\u001b[0m\u001b[0;34m*\u001b[0m\u001b[0my\u001b[0m\u001b[0;34m*\u001b[0m\u001b[0mx\u001b[0m \u001b[0;34m+\u001b[0m \u001b[0my\u001b[0m \u001b[0;34m+\u001b[0m \u001b[0;36m2\u001b[0m\u001b[0;34m\u001b[0m\u001b[0;34m\u001b[0m\u001b[0m\n\u001b[0;32m----> 8\u001b[0;31m     \u001b[0mz\u001b[0m \u001b[0;34m=\u001b[0m \u001b[0msess\u001b[0m\u001b[0;34m.\u001b[0m\u001b[0mrun\u001b[0m\u001b[0;34m(\u001b[0m\u001b[0mf\u001b[0m\u001b[0;34m)\u001b[0m\u001b[0;34m;\u001b[0m \u001b[0mprint\u001b[0m\u001b[0;34m(\u001b[0m\u001b[0mz\u001b[0m\u001b[0;34m)\u001b[0m\u001b[0;34m\u001b[0m\u001b[0;34m\u001b[0m\u001b[0m\n\u001b[0m\u001b[1;32m      9\u001b[0m \u001b[0;34m\u001b[0m\u001b[0m\n",
      "\u001b[0;32m/opt/homebrew/Caskroom/miniforge/base/envs/tfcv/lib/python3.8/site-packages/tensorflow/python/client/session.py\u001b[0m in \u001b[0;36mrun\u001b[0;34m(self, fetches, feed_dict, options, run_metadata)\u001b[0m\n\u001b[1;32m    965\u001b[0m \u001b[0;34m\u001b[0m\u001b[0m\n\u001b[1;32m    966\u001b[0m     \u001b[0;32mtry\u001b[0m\u001b[0;34m:\u001b[0m\u001b[0;34m\u001b[0m\u001b[0;34m\u001b[0m\u001b[0m\n\u001b[0;32m--> 967\u001b[0;31m       result = self._run(None, fetches, feed_dict, options_ptr,\n\u001b[0m\u001b[1;32m    968\u001b[0m                          run_metadata_ptr)\n\u001b[1;32m    969\u001b[0m       \u001b[0;32mif\u001b[0m \u001b[0mrun_metadata\u001b[0m\u001b[0;34m:\u001b[0m\u001b[0;34m\u001b[0m\u001b[0;34m\u001b[0m\u001b[0m\n",
      "\u001b[0;32m/opt/homebrew/Caskroom/miniforge/base/envs/tfcv/lib/python3.8/site-packages/tensorflow/python/client/session.py\u001b[0m in \u001b[0;36m_run\u001b[0;34m(self, handle, fetches, feed_dict, options, run_metadata)\u001b[0m\n\u001b[1;32m   1188\u001b[0m     \u001b[0;31m# or if the call is a partial run that specifies feeds.\u001b[0m\u001b[0;34m\u001b[0m\u001b[0;34m\u001b[0m\u001b[0;34m\u001b[0m\u001b[0m\n\u001b[1;32m   1189\u001b[0m     \u001b[0;32mif\u001b[0m \u001b[0mfinal_fetches\u001b[0m \u001b[0;32mor\u001b[0m \u001b[0mfinal_targets\u001b[0m \u001b[0;32mor\u001b[0m \u001b[0;34m(\u001b[0m\u001b[0mhandle\u001b[0m \u001b[0;32mand\u001b[0m \u001b[0mfeed_dict_tensor\u001b[0m\u001b[0;34m)\u001b[0m\u001b[0;34m:\u001b[0m\u001b[0;34m\u001b[0m\u001b[0;34m\u001b[0m\u001b[0m\n\u001b[0;32m-> 1190\u001b[0;31m       results = self._do_run(handle, final_targets, final_fetches,\n\u001b[0m\u001b[1;32m   1191\u001b[0m                              feed_dict_tensor, options, run_metadata)\n\u001b[1;32m   1192\u001b[0m     \u001b[0;32melse\u001b[0m\u001b[0;34m:\u001b[0m\u001b[0;34m\u001b[0m\u001b[0;34m\u001b[0m\u001b[0m\n",
      "\u001b[0;32m/opt/homebrew/Caskroom/miniforge/base/envs/tfcv/lib/python3.8/site-packages/tensorflow/python/client/session.py\u001b[0m in \u001b[0;36m_do_run\u001b[0;34m(self, handle, target_list, fetch_list, feed_dict, options, run_metadata)\u001b[0m\n\u001b[1;32m   1366\u001b[0m \u001b[0;34m\u001b[0m\u001b[0m\n\u001b[1;32m   1367\u001b[0m     \u001b[0;32mif\u001b[0m \u001b[0mhandle\u001b[0m \u001b[0;32mis\u001b[0m \u001b[0;32mNone\u001b[0m\u001b[0;34m:\u001b[0m\u001b[0;34m\u001b[0m\u001b[0;34m\u001b[0m\u001b[0m\n\u001b[0;32m-> 1368\u001b[0;31m       return self._do_call(_run_fn, feeds, fetches, targets, options,\n\u001b[0m\u001b[1;32m   1369\u001b[0m                            run_metadata)\n\u001b[1;32m   1370\u001b[0m     \u001b[0;32melse\u001b[0m\u001b[0;34m:\u001b[0m\u001b[0;34m\u001b[0m\u001b[0;34m\u001b[0m\u001b[0m\n",
      "\u001b[0;32m/opt/homebrew/Caskroom/miniforge/base/envs/tfcv/lib/python3.8/site-packages/tensorflow/python/client/session.py\u001b[0m in \u001b[0;36m_do_call\u001b[0;34m(self, fn, *args)\u001b[0m\n\u001b[1;32m   1392\u001b[0m                     \u001b[0;34m'\\nsession_config.graph_options.rewrite_options.'\u001b[0m\u001b[0;34m\u001b[0m\u001b[0;34m\u001b[0m\u001b[0m\n\u001b[1;32m   1393\u001b[0m                     'disable_meta_optimizer = True')\n\u001b[0;32m-> 1394\u001b[0;31m       \u001b[0;32mraise\u001b[0m \u001b[0mtype\u001b[0m\u001b[0;34m(\u001b[0m\u001b[0me\u001b[0m\u001b[0;34m)\u001b[0m\u001b[0;34m(\u001b[0m\u001b[0mnode_def\u001b[0m\u001b[0;34m,\u001b[0m \u001b[0mop\u001b[0m\u001b[0;34m,\u001b[0m \u001b[0mmessage\u001b[0m\u001b[0;34m)\u001b[0m\u001b[0;34m\u001b[0m\u001b[0;34m\u001b[0m\u001b[0m\n\u001b[0m\u001b[1;32m   1395\u001b[0m \u001b[0;34m\u001b[0m\u001b[0m\n\u001b[1;32m   1396\u001b[0m   \u001b[0;32mdef\u001b[0m \u001b[0m_extend_graph\u001b[0m\u001b[0;34m(\u001b[0m\u001b[0mself\u001b[0m\u001b[0;34m)\u001b[0m\u001b[0;34m:\u001b[0m\u001b[0;34m\u001b[0m\u001b[0;34m\u001b[0m\u001b[0m\n",
      "\u001b[0;31mFailedPreconditionError\u001b[0m: 2 root error(s) found.\n  (0) Failed precondition: Could not find variable y. This could mean that the variable has been deleted. In TF1, it can also mean the variable is uninitialized. Debug info: container=localhost, status=Not found: Container localhost does not exist. (Could not find resource: localhost/y)\n\t [[node add/ReadVariableOp (defined at var/folders/ss/dphts7s11w55xdyptfls1np00000gn/T/ipykernel_2236/3429531494.py:7) ]]\n\t [[ReadVariableOp/_1]]\n  (1) Failed precondition: Could not find variable y. This could mean that the variable has been deleted. In TF1, it can also mean the variable is uninitialized. Debug info: container=localhost, status=Not found: Container localhost does not exist. (Could not find resource: localhost/y)\n\t [[node add/ReadVariableOp (defined at var/folders/ss/dphts7s11w55xdyptfls1np00000gn/T/ipykernel_2236/3429531494.py:7) ]]\n0 successful operations.\n0 derived errors ignored.\n\nErrors may have originated from an input operation.\nInput Source operations connected to node add/ReadVariableOp:\n y (defined at var/folders/ss/dphts7s11w55xdyptfls1np00000gn/T/ipykernel_2236/3429531494.py:5)\n\nInput Source operations connected to node add/ReadVariableOp:\n y (defined at var/folders/ss/dphts7s11w55xdyptfls1np00000gn/T/ipykernel_2236/3429531494.py:5)\n\nOriginal stack trace for 'add/ReadVariableOp':\n  File \"opt/homebrew/Caskroom/miniforge/base/envs/tfcv/lib/python3.8/runpy.py\", line 194, in _run_module_as_main\n    return _run_code(code, main_globals, None,\n  File \"opt/homebrew/Caskroom/miniforge/base/envs/tfcv/lib/python3.8/runpy.py\", line 87, in _run_code\n    exec(code, run_globals)\n  File \"opt/homebrew/Caskroom/miniforge/base/envs/tfcv/lib/python3.8/site-packages/ipykernel_launcher.py\", line 16, in <module>\n    app.launch_new_instance()\n  File \"opt/homebrew/Caskroom/miniforge/base/envs/tfcv/lib/python3.8/site-packages/traitlets/config/application.py\", line 846, in launch_instance\n    app.start()\n  File \"opt/homebrew/Caskroom/miniforge/base/envs/tfcv/lib/python3.8/site-packages/ipykernel/kernelapp.py\", line 677, in start\n    self.io_loop.start()\n  File \"opt/homebrew/Caskroom/miniforge/base/envs/tfcv/lib/python3.8/site-packages/tornado/platform/asyncio.py\", line 199, in start\n    self.asyncio_loop.run_forever()\n  File \"opt/homebrew/Caskroom/miniforge/base/envs/tfcv/lib/python3.8/asyncio/base_events.py\", line 570, in run_forever\n    self._run_once()\n  File \"opt/homebrew/Caskroom/miniforge/base/envs/tfcv/lib/python3.8/asyncio/base_events.py\", line 1859, in _run_once\n    handle._run()\n  File \"opt/homebrew/Caskroom/miniforge/base/envs/tfcv/lib/python3.8/asyncio/events.py\", line 81, in _run\n    self._context.run(self._callback, *self._args)\n  File \"opt/homebrew/Caskroom/miniforge/base/envs/tfcv/lib/python3.8/site-packages/ipykernel/kernelbase.py\", line 457, in dispatch_queue\n    await self.process_one()\n  File \"opt/homebrew/Caskroom/miniforge/base/envs/tfcv/lib/python3.8/site-packages/ipykernel/kernelbase.py\", line 446, in process_one\n    await dispatch(*args)\n  File \"opt/homebrew/Caskroom/miniforge/base/envs/tfcv/lib/python3.8/site-packages/ipykernel/kernelbase.py\", line 353, in dispatch_shell\n    await result\n  File \"opt/homebrew/Caskroom/miniforge/base/envs/tfcv/lib/python3.8/site-packages/ipykernel/kernelbase.py\", line 648, in execute_request\n    reply_content = await reply_content\n  File \"opt/homebrew/Caskroom/miniforge/base/envs/tfcv/lib/python3.8/site-packages/ipykernel/ipkernel.py\", line 353, in do_execute\n    res = shell.run_cell(code, store_history=store_history, silent=silent)\n  File \"opt/homebrew/Caskroom/miniforge/base/envs/tfcv/lib/python3.8/site-packages/ipykernel/zmqshell.py\", line 533, in run_cell\n    return super(ZMQInteractiveShell, self).run_cell(*args, **kwargs)\n  File \"opt/homebrew/Caskroom/miniforge/base/envs/tfcv/lib/python3.8/site-packages/IPython/core/interactiveshell.py\", line 2898, in run_cell\n    result = self._run_cell(\n  File \"opt/homebrew/Caskroom/miniforge/base/envs/tfcv/lib/python3.8/site-packages/IPython/core/interactiveshell.py\", line 2944, in _run_cell\n    return runner(coro)\n  File \"opt/homebrew/Caskroom/miniforge/base/envs/tfcv/lib/python3.8/site-packages/IPython/core/async_helpers.py\", line 68, in _pseudo_sync_runner\n    coro.send(None)\n  File \"opt/homebrew/Caskroom/miniforge/base/envs/tfcv/lib/python3.8/site-packages/IPython/core/interactiveshell.py\", line 3169, in run_cell_async\n    has_raised = await self.run_ast_nodes(code_ast.body, cell_name,\n  File \"opt/homebrew/Caskroom/miniforge/base/envs/tfcv/lib/python3.8/site-packages/IPython/core/interactiveshell.py\", line 3361, in run_ast_nodes\n    if (await self.run_code(code, result,  async_=asy)):\n  File \"opt/homebrew/Caskroom/miniforge/base/envs/tfcv/lib/python3.8/site-packages/IPython/core/interactiveshell.py\", line 3441, in run_code\n    exec(code_obj, self.user_global_ns, self.user_ns)\n  File \"var/folders/ss/dphts7s11w55xdyptfls1np00000gn/T/ipykernel_2236/3429531494.py\", line 7, in <module>\n    f = x*y*x + y + 2\n  File \"opt/homebrew/Caskroom/miniforge/base/envs/tfcv/lib/python3.8/site-packages/tensorflow/python/ops/math_ops.py\", line 1234, in binary_op_wrapper\n    return func(x, y, name=name)\n  File \"opt/homebrew/Caskroom/miniforge/base/envs/tfcv/lib/python3.8/site-packages/tensorflow/python/util/dispatch.py\", line 206, in wrapper\n    return target(*args, **kwargs)\n  File \"opt/homebrew/Caskroom/miniforge/base/envs/tfcv/lib/python3.8/site-packages/tensorflow/python/ops/math_ops.py\", line 1561, in _add_dispatch\n    y = ops.convert_to_tensor(y, dtype_hint=x.dtype.base_dtype, name=\"y\")\n  File \"opt/homebrew/Caskroom/miniforge/base/envs/tfcv/lib/python3.8/site-packages/tensorflow/python/profiler/trace.py\", line 163, in wrapped\n    return func(*args, **kwargs)\n  File \"opt/homebrew/Caskroom/miniforge/base/envs/tfcv/lib/python3.8/site-packages/tensorflow/python/framework/ops.py\", line 1553, in convert_to_tensor\n    ret = conversion_func(\n  File \"opt/homebrew/Caskroom/miniforge/base/envs/tfcv/lib/python3.8/site-packages/tensorflow/python/ops/resource_variable_ops.py\", line 2005, in _dense_var_to_tensor\n    return var._dense_var_to_tensor(dtype=dtype, name=name, as_ref=as_ref)  # pylint: disable=protected-access\n  File \"opt/homebrew/Caskroom/miniforge/base/envs/tfcv/lib/python3.8/site-packages/tensorflow/python/ops/resource_variable_ops.py\", line 1403, in _dense_var_to_tensor\n    return self.value()\n  File \"opt/homebrew/Caskroom/miniforge/base/envs/tfcv/lib/python3.8/site-packages/tensorflow/python/ops/resource_variable_ops.py\", line 575, in value\n    return self._read_variable_op()\n  File \"opt/homebrew/Caskroom/miniforge/base/envs/tfcv/lib/python3.8/site-packages/tensorflow/python/ops/resource_variable_ops.py\", line 682, in _read_variable_op\n    result = read_and_set_handle()\n  File \"opt/homebrew/Caskroom/miniforge/base/envs/tfcv/lib/python3.8/site-packages/tensorflow/python/ops/resource_variable_ops.py\", line 672, in read_and_set_handle\n    result = gen_resource_variable_ops.read_variable_op(\n  File \"opt/homebrew/Caskroom/miniforge/base/envs/tfcv/lib/python3.8/site-packages/tensorflow/python/ops/gen_resource_variable_ops.py\", line 484, in read_variable_op\n    _, _, _op, _outputs = _op_def_library._apply_op_helper(\n  File \"opt/homebrew/Caskroom/miniforge/base/envs/tfcv/lib/python3.8/site-packages/tensorflow/python/framework/op_def_library.py\", line 748, in _apply_op_helper\n    op = g._create_op_internal(op_type_name, inputs, dtypes=None,\n  File \"opt/homebrew/Caskroom/miniforge/base/envs/tfcv/lib/python3.8/site-packages/tensorflow/python/framework/ops.py\", line 3557, in _create_op_internal\n    ret = Operation(\n  File \"opt/homebrew/Caskroom/miniforge/base/envs/tfcv/lib/python3.8/site-packages/tensorflow/python/framework/ops.py\", line 2045, in __init__\n    self._traceback = tf_stack.extract_stack_for_node(self._c_op)\n"
     ]
    }
   ],
   "source": [
    "tf.compat.v1.disable_v2_behavior()\n",
    "\n",
    "with tf.compat.v1.Session() as sess:\n",
    "    x = tf.Variable(3, name=\"x\")\n",
    "    y = tf.Variable(4, name=\"y\")\n",
    "    \n",
    "    f = x*y*x + y + 2\n",
    "    z = sess.run(f); print(z)\n",
    "\n"
   ]
  },
  {
   "cell_type": "markdown",
   "metadata": {},
   "source": [
    "- 변수는 tf1에서 실행 전 반드시 초기화 필요."
   ]
  },
  {
   "cell_type": "code",
   "execution_count": 5,
   "metadata": {},
   "outputs": [
    {
     "name": "stdout",
     "output_type": "stream",
     "text": [
      "42\n"
     ]
    },
    {
     "name": "stderr",
     "output_type": "stream",
     "text": [
      "2021-10-08 09:37:17.971297: I tensorflow/core/common_runtime/pluggable_device/pluggable_device_factory.cc:305] Could not identify NUMA node of platform GPU ID 0, defaulting to 0. Your kernel may not have been built with NUMA support.\n",
      "2021-10-08 09:37:17.971334: I tensorflow/core/common_runtime/pluggable_device/pluggable_device_factory.cc:271] Created TensorFlow device (/job:localhost/replica:0/task:0/device:GPU:0 with 0 MB memory) -> physical PluggableDevice (device: 0, name: METAL, pci bus id: <undefined>)\n",
      "2021-10-08 09:37:17.978907: I tensorflow/core/grappler/optimizers/custom_graph_optimizer_registry.cc:112] Plugin optimizer for device_type GPU is enabled.\n",
      "2021-10-08 09:37:17.981336: I tensorflow/core/grappler/optimizers/custom_graph_optimizer_registry.cc:112] Plugin optimizer for device_type GPU is enabled.\n",
      "2021-10-08 09:37:17.985688: I tensorflow/core/grappler/optimizers/custom_graph_optimizer_registry.cc:112] Plugin optimizer for device_type GPU is enabled.\n"
     ]
    }
   ],
   "source": [
    "tf.compat.v1.disable_v2_behavior()\n",
    "\n",
    "with tf.compat.v1.Session() as sess:\n",
    "    x = tf.Variable(3, name=\"x\")\n",
    "    y = tf.Variable(4, name=\"y\")\n",
    "    \n",
    "    sess.run(x.initializer) \t# 또는 x.initializer.run()\n",
    "    sess.run(y.initializer) \t# 또는 y.initializer.run()\n",
    "    \n",
    "    f = x*y*x + y + 2\n",
    "    z = sess.run(f)\n",
    "    print(z)\n",
    "    "
   ]
  },
  {
   "cell_type": "markdown",
   "metadata": {},
   "source": [
    "- assign 함수로 변수에 저장된 값을 변경할 수 있다.\n",
    "    - tf1에서는 assign한 결과 노드를 변수에 저장해 주어야 한다."
   ]
  },
  {
   "cell_type": "code",
   "execution_count": 6,
   "metadata": {},
   "outputs": [
    {
     "name": "stdout",
     "output_type": "stream",
     "text": [
      "0\n",
      "7\n"
     ]
    },
    {
     "name": "stderr",
     "output_type": "stream",
     "text": [
      "2021-10-08 09:37:23.002335: I tensorflow/core/common_runtime/pluggable_device/pluggable_device_factory.cc:305] Could not identify NUMA node of platform GPU ID 0, defaulting to 0. Your kernel may not have been built with NUMA support.\n",
      "2021-10-08 09:37:23.002356: I tensorflow/core/common_runtime/pluggable_device/pluggable_device_factory.cc:271] Created TensorFlow device (/job:localhost/replica:0/task:0/device:GPU:0 with 0 MB memory) -> physical PluggableDevice (device: 0, name: METAL, pci bus id: <undefined>)\n",
      "2021-10-08 09:37:23.003284: I tensorflow/core/grappler/optimizers/custom_graph_optimizer_registry.cc:112] Plugin optimizer for device_type GPU is enabled.\n",
      "2021-10-08 09:37:23.004779: I tensorflow/core/grappler/optimizers/custom_graph_optimizer_registry.cc:112] Plugin optimizer for device_type GPU is enabled.\n",
      "2021-10-08 09:37:23.008314: I tensorflow/core/common_runtime/pluggable_device/pluggable_device_factory.cc:305] Could not identify NUMA node of platform GPU ID 0, defaulting to 0. Your kernel may not have been built with NUMA support.\n",
      "2021-10-08 09:37:23.008333: I tensorflow/core/common_runtime/pluggable_device/pluggable_device_factory.cc:271] Created TensorFlow device (/job:localhost/replica:0/task:0/device:GPU:0 with 0 MB memory) -> physical PluggableDevice (device: 0, name: METAL, pci bus id: <undefined>)\n",
      "2021-10-08 09:37:23.009165: I tensorflow/core/grappler/optimizers/custom_graph_optimizer_registry.cc:112] Plugin optimizer for device_type GPU is enabled.\n",
      "2021-10-08 09:37:23.010697: I tensorflow/core/grappler/optimizers/custom_graph_optimizer_registry.cc:112] Plugin optimizer for device_type GPU is enabled.\n",
      "2021-10-08 09:37:23.012589: I tensorflow/core/grappler/optimizers/custom_graph_optimizer_registry.cc:112] Plugin optimizer for device_type GPU is enabled.\n"
     ]
    }
   ],
   "source": [
    "import tensorflow as tf\n",
    "\n",
    "tf.compat.v1.disable_v2_behavior()\n",
    "v = tf.Variable(0) \n",
    "v.assign(7)\n",
    "with tf. compat.v1.Session() as sess: \n",
    "\tv.initializer.run()\n",
    "\tprint(v.eval())\n",
    "\n",
    "import tensorflow as tf\n",
    "\n",
    "tf.compat.v1.disable_v2_behavior()\n",
    "v = tf.Variable(0) \n",
    "w = v.assign(7)\n",
    "with tf.compat.v1.Session() as sess: \n",
    "\tv.initializer.run()\n",
    "\tw.eval()\n",
    "\tprint(v.eval())\n"
   ]
  }
 ],
 "metadata": {
  "interpreter": {
   "hash": "30740838fbad623b12890ad10976683e42e46a003fa18980ca1f6ad85db8810b"
  },
  "kernelspec": {
   "display_name": "Python 3.8.12 64-bit ('tfcv': conda)",
   "name": "python3"
  },
  "language_info": {
   "codemirror_mode": {
    "name": "ipython",
    "version": 3
   },
   "file_extension": ".py",
   "mimetype": "text/x-python",
   "name": "python",
   "nbconvert_exporter": "python",
   "pygments_lexer": "ipython3",
   "version": "3.8.12"
  },
  "orig_nbformat": 4
 },
 "nbformat": 4,
 "nbformat_minor": 2
}
