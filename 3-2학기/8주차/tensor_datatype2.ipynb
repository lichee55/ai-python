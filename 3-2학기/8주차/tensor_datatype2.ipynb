{
 "cells": [
  {
   "cell_type": "markdown",
   "metadata": {},
   "source": [
    "- 이어서...\n"
   ]
  },
  {
   "cell_type": "markdown",
   "metadata": {},
   "source": [
    "- 1에서 5까지의 합 예제"
   ]
  },
  {
   "cell_type": "code",
   "execution_count": 2,
   "metadata": {},
   "outputs": [
    {
     "name": "stdout",
     "output_type": "stream",
     "text": [
      "0\n",
      "7\n"
     ]
    }
   ],
   "source": [
    "import tensorflow as tf\n",
    "\n",
    "v = tf.Variable(0)\n",
    "tf.print(v)\n",
    "v.assign(7)\n",
    "tf.print(v)"
   ]
  },
  {
   "cell_type": "markdown",
   "metadata": {},
   "source": [
    "- 변수의 값이 런타임 중 정해지는 경우(tf2)\n",
    "    - 두 정수 중 최댓값 출력하는 프로그램"
   ]
  },
  {
   "cell_type": "code",
   "execution_count": 3,
   "metadata": {},
   "outputs": [
    {
     "name": "stdout",
     "output_type": "stream",
     "text": [
      "5\n"
     ]
    }
   ],
   "source": [
    "import tensorflow as tf\n",
    "\n",
    "str = input(\"두 정수를 공백으로 분리하여 입력 \")\n",
    "valueStr = str.split()\n",
    "x1 = int(valueStr[0]); x2 = int(valueStr[1])\n",
    "max = tf.maximum(x1, x2)\n",
    "tf.print(max)\n"
   ]
  },
  {
   "cell_type": "markdown",
   "metadata": {},
   "source": [
    "- 변수의 값을 저장해야 할 때는?\n",
    "    - tf1에서는 saver 이용하여 save하고 restore하게 됨.\n",
    "    - tf2에서는 checkpoint 를 이용하여 가능."
   ]
  },
  {
   "cell_type": "code",
   "execution_count": 4,
   "metadata": {},
   "outputs": [
    {
     "name": "stdout",
     "output_type": "stream",
     "text": [
      "0\n",
      "5\n"
     ]
    }
   ],
   "source": [
    "import tensorflow as tf\n",
    "import os\n",
    "\n",
    "x = tf.Variable(0); y = tf.Variable(5)\n",
    "\n",
    "checkpoint_dir = \"./ckpt\"\n",
    "if not os.path.exists(checkpoint_dir): os.makedirs(checkpoint_dir)\n",
    "checkpoint_prefix = os.path.join(checkpoint_dir, 'ckpt')\n",
    "\n",
    "# Checkpoint 생성\n",
    "checkpoint = tf.train.Checkpoint(step=x, iter=y)\n",
    "# save() 이용하여 checkpoint 저장\n",
    "checkpoint.save(checkpoint_prefix)\n",
    "\n",
    "x.assign(100); y.assign(105)\n",
    "\n",
    "# 나중에 restore()를 사용하여 Checkpoint 읽어드림\n",
    "checkpoint.restore(tf.train.latest_checkpoint(checkpoint_dir))\n",
    "tf.print(x); tf.print(y)\n"
   ]
  },
  {
   "cell_type": "markdown",
   "metadata": {},
   "source": [
    "- tf2의 변수 스코프 지정\n",
    "    - get_vatiable대신 tf.Variable을 사용할 것을 권장.\n",
    "    - variable_scope 대신 파이썬 객체 사용을 권장. 변수 객체에 대한 레퍼런스를 공유할 수 있음."
   ]
  },
  {
   "cell_type": "code",
   "execution_count": 5,
   "metadata": {},
   "outputs": [
    {
     "name": "stdout",
     "output_type": "stream",
     "text": [
      "8\n"
     ]
    }
   ],
   "source": [
    "import tensorflow as tf\n",
    "\n",
    "var = tf.Variable(3)\n",
    "var2 = tf.Variable(5)\n",
    "var.assign_add(5)\n",
    "tf.print(var)"
   ]
  }
 ],
 "metadata": {
  "interpreter": {
   "hash": "30740838fbad623b12890ad10976683e42e46a003fa18980ca1f6ad85db8810b"
  },
  "kernelspec": {
   "display_name": "Python 3.8.12 64-bit ('tfcv': conda)",
   "name": "python3"
  },
  "language_info": {
   "codemirror_mode": {
    "name": "ipython",
    "version": 3
   },
   "file_extension": ".py",
   "mimetype": "text/x-python",
   "name": "python",
   "nbconvert_exporter": "python",
   "pygments_lexer": "ipython3",
   "version": "3.8.12"
  },
  "orig_nbformat": 4
 },
 "nbformat": 4,
 "nbformat_minor": 2
}
