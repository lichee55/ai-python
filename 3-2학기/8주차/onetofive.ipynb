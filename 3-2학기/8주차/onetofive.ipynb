{
 "cells": [
  {
   "cell_type": "markdown",
   "metadata": {},
   "source": [
    "### 20171181 최영빈\n"
   ]
  },
  {
   "cell_type": "markdown",
   "metadata": {},
   "source": [
    "- 1부터 5까지의 합 tf version1 형식으로 작성"
   ]
  },
  {
   "cell_type": "code",
   "execution_count": 2,
   "metadata": {},
   "outputs": [
    {
     "name": "stdout",
     "output_type": "stream",
     "text": [
      "tf1으로 실행한 1부터 5까지의 합 :  15\n"
     ]
    },
    {
     "name": "stderr",
     "output_type": "stream",
     "text": [
      "2021-10-10 18:46:44.365573: I tensorflow/core/common_runtime/pluggable_device/pluggable_device_factory.cc:305] Could not identify NUMA node of platform GPU ID 0, defaulting to 0. Your kernel may not have been built with NUMA support.\n",
      "2021-10-10 18:46:44.365598: I tensorflow/core/common_runtime/pluggable_device/pluggable_device_factory.cc:271] Created TensorFlow device (/job:localhost/replica:0/task:0/device:GPU:0 with 0 MB memory) -> physical PluggableDevice (device: 0, name: METAL, pci bus id: <undefined>)\n"
     ]
    }
   ],
   "source": [
    "import tensorflow as tf\n",
    "\n",
    "tf.compat.v1.disable_v2_behavior()\n",
    "\n",
    "with tf.compat.v1.Session() as sess:\n",
    "    total = tf.Variable(0)\n",
    "    sess.run(total.initializer)\n",
    "\n",
    "    for i in range(1, 6):\n",
    "        total = total.assign_add(i)\n",
    "\n",
    "    print('tf1으로 실행한 1부터 5까지의 합 : ', total.eval())\n"
   ]
  }
 ],
 "metadata": {
  "interpreter": {
   "hash": "963e7f33eadfa6cba11be8e45b2c72da152dda649dac605e19b3dcc6a7b906ef"
  },
  "kernelspec": {
   "display_name": "Python 3.8.12 64-bit ('tfcv': conda)",
   "name": "python3"
  },
  "language_info": {
   "codemirror_mode": {
    "name": "ipython",
    "version": 3
   },
   "file_extension": ".py",
   "mimetype": "text/x-python",
   "name": "python",
   "nbconvert_exporter": "python",
   "pygments_lexer": "ipython3",
   "version": "3.8.12"
  },
  "orig_nbformat": 4
 },
 "nbformat": 4,
 "nbformat_minor": 2
}
